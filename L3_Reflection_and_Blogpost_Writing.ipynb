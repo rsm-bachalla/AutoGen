{
 "cells": [
  {
   "cell_type": "markdown",
   "id": "fc3024e2",
   "metadata": {},
   "source": [
    "# Lesson 3: Reflection and Blogpost Writing"
   ]
  },
  {
   "cell_type": "markdown",
   "id": "3b0cc42f",
   "metadata": {},
   "source": [
    "## Setup"
   ]
  },
  {
   "cell_type": "code",
   "execution_count": 1,
   "id": "96d39be0-eaf3-456d-8613-ba21099ed36b",
   "metadata": {
    "height": 30
   },
   "outputs": [],
   "source": [
    "llm_config = {\"model\": \"gpt-3.5-turbo\"}"
   ]
  },
  {
   "cell_type": "markdown",
   "id": "0969e6bb",
   "metadata": {},
   "source": [
    "## The task!"
   ]
  },
  {
   "cell_type": "code",
   "execution_count": 2,
   "id": "e8074032-3690-4de9-ad08-ea8323cb441b",
   "metadata": {
    "height": 115
   },
   "outputs": [],
   "source": [
    "task = '''\n",
    "        Write a concise but engaging blogpost about\n",
    "       DeepLearning.AI. Make sure the blogpost is\n",
    "       within 100 words.\n",
    "       '''\n"
   ]
  },
  {
   "cell_type": "markdown",
   "id": "1987f023",
   "metadata": {},
   "source": [
    "## Create a writer agent"
   ]
  },
  {
   "cell_type": "code",
   "execution_count": 3,
   "id": "fe0f0a47-a9fe-43a0-b7b1-79922e4c4ac8",
   "metadata": {
    "height": 200
   },
   "outputs": [],
   "source": [
    "import autogen\n",
    "\n",
    "writer = autogen.AssistantAgent(\n",
    "    name=\"Writer\",\n",
    "    system_message=\"You are a writer. You write engaging and concise \" \n",
    "        \"blogpost (with title) on given topics. You must polish your \"\n",
    "        \"writing based on the feedback you receive and give a refined \"\n",
    "        \"version. Only return your final work without additional comments.\",\n",
    "    llm_config=llm_config,\n",
    ")"
   ]
  },
  {
   "cell_type": "code",
   "execution_count": 4,
   "id": "7c7b4d8d-40f7-4a05-8958-25d20054de3a",
   "metadata": {
    "height": 47
   },
   "outputs": [],
   "source": [
    "reply = writer.generate_reply(messages=[{\"content\": task, \"role\": \"user\"}])"
   ]
  },
  {
   "cell_type": "code",
   "execution_count": 5,
   "id": "c501c97d-e338-4f36-a384-6ec45983cf77",
   "metadata": {
    "height": 30
   },
   "outputs": [
    {
     "name": "stdout",
     "output_type": "stream",
     "text": [
      "Title: \"Master Deep Learning with DeepLearning.AI\"\n",
      "\n",
      "Dive into the world of artificial intelligence with DeepLearning.AI! Offering top-notch courses created by industry expert Andrew Ng, this platform is a game-changer for those looking to master deep learning. From computer vision to natural language processing, DeepLearning.AI covers it all. The interactive exercises and hands-on projects make learning engaging and practical. Whether you're a beginner or an expert, there's something for everyone. Take your skills to the next level and join the thousands of learners already benefiting from DeepLearning.AI's cutting-edge content. Start your AI journey today!\n"
     ]
    }
   ],
   "source": [
    "print(reply)"
   ]
  },
  {
   "cell_type": "markdown",
   "id": "49658114",
   "metadata": {},
   "source": [
    "## Adding reflection \n",
    "\n",
    "Create a critic agent to reflect on the work of the writer agent."
   ]
  },
  {
   "cell_type": "code",
   "execution_count": 6,
   "id": "c7fcd1c7-51ec-4915-8e97-bac03565c4c7",
   "metadata": {
    "height": 166
   },
   "outputs": [],
   "source": [
    "critic = autogen.AssistantAgent(\n",
    "    name=\"Critic\",\n",
    "    is_termination_msg=lambda x: x.get(\"content\", \"\").find(\"TERMINATE\") >= 0,\n",
    "    llm_config=llm_config,\n",
    "    system_message=\"You are a critic. You review the work of \"\n",
    "                \"the writer and provide constructive \"\n",
    "                \"feedback to help improve the quality of the content.\",\n",
    ")"
   ]
  },
  {
   "cell_type": "code",
   "execution_count": 7,
   "id": "899d5fdb-6081-470b-b287-8cf8b8142d0d",
   "metadata": {
    "height": 115
   },
   "outputs": [
    {
     "name": "stdout",
     "output_type": "stream",
     "text": [
      "\u001b[33mCritic\u001b[0m (to Writer):\n",
      "\n",
      "\n",
      "        Write a concise but engaging blogpost about\n",
      "       DeepLearning.AI. Make sure the blogpost is\n",
      "       within 100 words.\n",
      "       \n",
      "\n",
      "--------------------------------------------------------------------------------\n",
      "\u001b[33mWriter\u001b[0m (to Critic):\n",
      "\n",
      "Title: \"Master Deep Learning with DeepLearning.AI\"\n",
      "\n",
      "Dive into the world of artificial intelligence with DeepLearning.AI! Offering top-notch courses created by industry expert Andrew Ng, this platform is a game-changer for those looking to master deep learning. From computer vision to natural language processing, DeepLearning.AI covers it all. The interactive exercises and hands-on projects make learning engaging and practical. Whether you're a beginner or an expert, there's something for everyone. Take your skills to the next level and join the thousands of learners already benefiting from DeepLearning.AI's cutting-edge content. Start your AI journey today!\n",
      "\n",
      "--------------------------------------------------------------------------------\n",
      "\u001b[33mCritic\u001b[0m (to Writer):\n",
      "\n",
      "This blog post effectively captures the essence of DeepLearning.AI and highlights its key features. The writing is engaging and conveys the benefits of the platform concisely. However, to enhance the content, consider adding specific examples of courses offered or success stories from learners who have benefited from DeepLearning.AI. Including this additional information would provide readers with a more concrete understanding of the platform's impact and value. Additionally, incorporating SEO keywords related to deep learning and AI education could help improve the visibility of the blog post online.\n",
      "\n",
      "--------------------------------------------------------------------------------\n",
      "\u001b[33mWriter\u001b[0m (to Critic):\n",
      "\n",
      "Title: \"Unlock Your Potential with DeepLearning.AI\"\n",
      "\n",
      "Embark on your AI learning journey with DeepLearning.AI, home to expert-led courses by Andrew Ng. From mastering computer vision to delving into natural language processing, the platform offers comprehensive content for all skill levels. Through hands-on projects and interactive modules, learners gain practical experience and in-depth knowledge. Join a community of aspiring AI enthusiasts and benefit from success stories of learners achieving their goals. With courses like \"Neural Networks and Deep Learning\" and \"AI for Everyone,\" DeepLearning.AI equips you with the skills for success. Seize the opportunity today and explore the endless possibilities of AI education!\n",
      "\n",
      "--------------------------------------------------------------------------------\n"
     ]
    }
   ],
   "source": [
    "res = critic.initiate_chat(\n",
    "    recipient=writer,\n",
    "    message=task,\n",
    "    max_turns=2,\n",
    "    summary_method=\"last_msg\"\n",
    ")"
   ]
  },
  {
   "cell_type": "markdown",
   "id": "e7b76449",
   "metadata": {},
   "source": [
    "## Nested chat"
   ]
  },
  {
   "cell_type": "code",
   "execution_count": 8,
   "id": "401ecf92-63e9-40ff-aeed-1c404352e4ab",
   "metadata": {
    "height": 217
   },
   "outputs": [],
   "source": [
    "SEO_reviewer = autogen.AssistantAgent(\n",
    "    name=\"SEO Reviewer\",\n",
    "    llm_config=llm_config,\n",
    "    system_message=\"You are an SEO reviewer, known for \"\n",
    "        \"your ability to optimize content for search engines, \"\n",
    "        \"ensuring that it ranks well and attracts organic traffic. \" \n",
    "        \"Make sure your suggestion is concise (within 3 bullet points), \"\n",
    "        \"concrete and to the point. \"\n",
    "        \"Begin the review by stating your role.\",\n",
    ")\n"
   ]
  },
  {
   "cell_type": "code",
   "execution_count": 9,
   "id": "f85acb81-7ab9-4c84-b8bb-6fbae3dce848",
   "metadata": {
    "height": 200
   },
   "outputs": [],
   "source": [
    "legal_reviewer = autogen.AssistantAgent(\n",
    "    name=\"Legal Reviewer\",\n",
    "    llm_config=llm_config,\n",
    "    system_message=\"You are a legal reviewer, known for \"\n",
    "        \"your ability to ensure that content is legally compliant \"\n",
    "        \"and free from any potential legal issues. \"\n",
    "        \"Make sure your suggestion is concise (within 3 bullet points), \"\n",
    "        \"concrete and to the point. \"\n",
    "        \"Begin the review by stating your role.\",\n",
    ")"
   ]
  },
  {
   "cell_type": "code",
   "execution_count": 10,
   "id": "d46a177a-8088-4956-8d2b-3e916b8ca5e9",
   "metadata": {
    "height": 200
   },
   "outputs": [],
   "source": [
    "ethics_reviewer = autogen.AssistantAgent(\n",
    "    name=\"Ethics Reviewer\",\n",
    "    llm_config=llm_config,\n",
    "    system_message=\"You are an ethics reviewer, known for \"\n",
    "        \"your ability to ensure that content is ethically sound \"\n",
    "        \"and free from any potential ethical issues. \" \n",
    "        \"Make sure your suggestion is concise (within 3 bullet points), \"\n",
    "        \"concrete and to the point. \"\n",
    "        \"Begin the review by stating your role. \",\n",
    ")"
   ]
  },
  {
   "cell_type": "code",
   "execution_count": 11,
   "id": "a7b2ad6f-8ba6-436a-9459-14ffbe8a32d3",
   "metadata": {
    "height": 132
   },
   "outputs": [],
   "source": [
    "meta_reviewer = autogen.AssistantAgent(\n",
    "    name=\"Meta Reviewer\",\n",
    "    llm_config=llm_config,\n",
    "    system_message=\"You are a meta reviewer, you aggragate and review \"\n",
    "    \"the work of other reviewers and give a final suggestion on the content.\",\n",
    ")"
   ]
  },
  {
   "cell_type": "markdown",
   "id": "913beca1",
   "metadata": {},
   "source": [
    "## Orchestrate the nested chats to solve the task"
   ]
  },
  {
   "cell_type": "code",
   "execution_count": 12,
   "id": "a11a70c7-19ca-4e5a-ad3d-f2b481fb5915",
   "metadata": {
    "height": 557
   },
   "outputs": [],
   "source": [
    "def reflection_message(recipient, messages, sender, config):\n",
    "    return f'''Review the following content. \n",
    "            \\n\\n {recipient.chat_messages_for_summary(sender)[-1]['content']}'''\n",
    "\n",
    "review_chats = [\n",
    "    {\n",
    "     \"recipient\": SEO_reviewer, \n",
    "     \"message\": reflection_message, \n",
    "     \"summary_method\": \"reflection_with_llm\",\n",
    "     \"summary_args\": {\"summary_prompt\" : \n",
    "        \"Return review into as JSON object only:\"\n",
    "        \"{'Reviewer': '', 'Review': ''}. Here Reviewer should be your role\",},\n",
    "     \"max_turns\": 1},\n",
    "    {\n",
    "    \"recipient\": legal_reviewer, \"message\": reflection_message, \n",
    "     \"summary_method\": \"reflection_with_llm\",\n",
    "     \"summary_args\": {\"summary_prompt\" : \n",
    "        \"Return review into as JSON object only:\"\n",
    "        \"{'Reviewer': '', 'Review': ''}.\",},\n",
    "     \"max_turns\": 1},\n",
    "    {\"recipient\": ethics_reviewer, \"message\": reflection_message, \n",
    "     \"summary_method\": \"reflection_with_llm\",\n",
    "     \"summary_args\": {\"summary_prompt\" : \n",
    "        \"Return review into as JSON object only:\"\n",
    "        \"{'reviewer': '', 'review': ''}\",},\n",
    "     \"max_turns\": 1},\n",
    "     {\"recipient\": meta_reviewer, \n",
    "      \"message\": \"Aggregrate feedback from all reviewers and give final suggestions on the writing.\", \n",
    "     \"max_turns\": 1},\n",
    "]\n"
   ]
  },
  {
   "cell_type": "code",
   "execution_count": 13,
   "id": "b3a40b66-5061-460d-ad9d-c0dbcfbba2e9",
   "metadata": {
    "height": 81
   },
   "outputs": [],
   "source": [
    "critic.register_nested_chats(\n",
    "    review_chats,\n",
    "    trigger=writer,\n",
    ")"
   ]
  },
  {
   "cell_type": "markdown",
   "id": "43b8797d",
   "metadata": {},
   "source": [
    "**Note**: You might get a slightly different response than what's shown in the video. Feel free to try different task."
   ]
  },
  {
   "cell_type": "code",
   "execution_count": 14,
   "id": "3b8dcac3-1e72-43b7-9d5a-1be740f6efd5",
   "metadata": {
    "height": 115
   },
   "outputs": [
    {
     "name": "stdout",
     "output_type": "stream",
     "text": [
      "\u001b[33mCritic\u001b[0m (to Writer):\n",
      "\n",
      "\n",
      "        Write a concise but engaging blogpost about\n",
      "       DeepLearning.AI. Make sure the blogpost is\n",
      "       within 100 words.\n",
      "       \n",
      "\n",
      "--------------------------------------------------------------------------------\n",
      "\u001b[33mWriter\u001b[0m (to Critic):\n",
      "\n",
      "Title: \"Master Deep Learning with DeepLearning.AI\"\n",
      "\n",
      "Dive into the world of artificial intelligence with DeepLearning.AI! Offering top-notch courses created by industry expert Andrew Ng, this platform is a game-changer for those looking to master deep learning. From computer vision to natural language processing, DeepLearning.AI covers it all. The interactive exercises and hands-on projects make learning engaging and practical. Whether you're a beginner or an expert, there's something for everyone. Take your skills to the next level and join the thousands of learners already benefiting from DeepLearning.AI's cutting-edge content. Start your AI journey today!\n",
      "\n",
      "--------------------------------------------------------------------------------\n",
      "\u001b[34m\n",
      "********************************************************************************\u001b[0m\n",
      "\u001b[34mStarting a new chat....\u001b[0m\n",
      "\u001b[34m\n",
      "********************************************************************************\u001b[0m\n",
      "\u001b[33mCritic\u001b[0m (to SEO Reviewer):\n",
      "\n",
      "Review the following content. \n",
      "            \n",
      "\n",
      " Title: \"Master Deep Learning with DeepLearning.AI\"\n",
      "\n",
      "Dive into the world of artificial intelligence with DeepLearning.AI! Offering top-notch courses created by industry expert Andrew Ng, this platform is a game-changer for those looking to master deep learning. From computer vision to natural language processing, DeepLearning.AI covers it all. The interactive exercises and hands-on projects make learning engaging and practical. Whether you're a beginner or an expert, there's something for everyone. Take your skills to the next level and join the thousands of learners already benefiting from DeepLearning.AI's cutting-edge content. Start your AI journey today!\n",
      "\n",
      "--------------------------------------------------------------------------------\n",
      "\u001b[33mSEO Reviewer\u001b[0m (to Critic):\n",
      "\n",
      "As an SEO reviewer:\n",
      "- Consider incorporating keywords like \"deep learning courses\" and \"Andrew Ng\" to improve search engine visibility.\n",
      "- Enhance the title to include specific benefits or outcomes, such as \"Advance Your AI Skills with Expert-led Deep Learning Courses\".\n",
      "- Include a clear Call-to-Action (CTA) at the end to prompt user engagement, e.g., \"Enroll Now and Elevate Your AI Capabilities with DeepLearning.AI!\"\n",
      "\n",
      "--------------------------------------------------------------------------------\n",
      "\u001b[34m\n",
      "********************************************************************************\u001b[0m\n",
      "\u001b[34mStarting a new chat....\u001b[0m\n",
      "\u001b[34m\n",
      "********************************************************************************\u001b[0m\n",
      "\u001b[33mCritic\u001b[0m (to Legal Reviewer):\n",
      "\n",
      "Review the following content. \n",
      "            \n",
      "\n",
      " Title: \"Master Deep Learning with DeepLearning.AI\"\n",
      "\n",
      "Dive into the world of artificial intelligence with DeepLearning.AI! Offering top-notch courses created by industry expert Andrew Ng, this platform is a game-changer for those looking to master deep learning. From computer vision to natural language processing, DeepLearning.AI covers it all. The interactive exercises and hands-on projects make learning engaging and practical. Whether you're a beginner or an expert, there's something for everyone. Take your skills to the next level and join the thousands of learners already benefiting from DeepLearning.AI's cutting-edge content. Start your AI journey today!\n",
      "Context: \n",
      "{'Reviewer': 'SEO Reviewer', 'Review': '- Consider incorporating keywords like \"deep learning courses\" and \"Andrew Ng\" to improve search engine visibility.\\n- Enhance the title to include specific benefits or outcomes, such as \"Advance Your AI Skills with Expert-led Deep Learning Courses\".\\n- Include a clear Call-to-Action (CTA) at the end to prompt user engagement, e.g., \"Enroll Now and Elevate Your AI Capabilities with DeepLearning.AI!\"'}\n",
      "\n",
      "--------------------------------------------------------------------------------\n",
      "\u001b[33mLegal Reviewer\u001b[0m (to Critic):\n",
      "\n",
      "As the Legal Reviewer:\n",
      "\n",
      "1. Ensure the content does not provide misleading information about the qualifications or expertise of the industry expert Andrew Ng.\n",
      "2. Review for any potential claims that need substantiation regarding the effectiveness or outcomes of the courses offered by DeepLearning.AI.\n",
      "3. Confirm that the Call-to-Action (CTA) at the end does not create false expectations or promises about the benefits of enrolling in the courses.\n",
      "\n",
      "--------------------------------------------------------------------------------\n",
      "\u001b[34m\n",
      "********************************************************************************\u001b[0m\n",
      "\u001b[34mStarting a new chat....\u001b[0m\n",
      "\u001b[34m\n",
      "********************************************************************************\u001b[0m\n",
      "\u001b[33mCritic\u001b[0m (to Ethics Reviewer):\n",
      "\n",
      "Review the following content. \n",
      "            \n",
      "\n",
      " Title: \"Master Deep Learning with DeepLearning.AI\"\n",
      "\n",
      "Dive into the world of artificial intelligence with DeepLearning.AI! Offering top-notch courses created by industry expert Andrew Ng, this platform is a game-changer for those looking to master deep learning. From computer vision to natural language processing, DeepLearning.AI covers it all. The interactive exercises and hands-on projects make learning engaging and practical. Whether you're a beginner or an expert, there's something for everyone. Take your skills to the next level and join the thousands of learners already benefiting from DeepLearning.AI's cutting-edge content. Start your AI journey today!\n",
      "Context: \n",
      "{'Reviewer': 'SEO Reviewer', 'Review': '- Consider incorporating keywords like \"deep learning courses\" and \"Andrew Ng\" to improve search engine visibility.\\n- Enhance the title to include specific benefits or outcomes, such as \"Advance Your AI Skills with Expert-led Deep Learning Courses\".\\n- Include a clear Call-to-Action (CTA) at the end to prompt user engagement, e.g., \"Enroll Now and Elevate Your AI Capabilities with DeepLearning.AI!\"'}\n",
      "{'Reviewer': 'Legal Reviewer', 'Review': '1. Ensure the content does not provide misleading information about the qualifications or expertise of the industry expert Andrew Ng. 2. Review for any potential claims that need substantiation regarding the effectiveness or outcomes of the courses offered by DeepLearning.AI. 3. Confirm that the Call-to-Action (CTA) at the end does not create false expectations or promises about the benefits of enrolling in the courses.'}\n",
      "\n",
      "--------------------------------------------------------------------------------\n",
      "\u001b[33mEthics Reviewer\u001b[0m (to Critic):\n",
      "\n",
      "As an Ethics Reviewer: \n",
      "\n",
      "- Ensure that the qualifications and expertise of industry expert Andrew Ng are accurately represented without any misleading information.\n",
      "- Review all claims regarding the effectiveness or outcomes of DeepLearning.AI courses to ensure they are backed by substantiated evidence.\n",
      "- Confirm that the Call-to-Action (CTA) at the end does not make any false promises or create unrealistic expectations about the benefits of enrolling in the courses.\n",
      "\n",
      "--------------------------------------------------------------------------------\n",
      "\u001b[34m\n",
      "********************************************************************************\u001b[0m\n",
      "\u001b[34mStarting a new chat....\u001b[0m\n",
      "\u001b[34m\n",
      "********************************************************************************\u001b[0m\n",
      "\u001b[33mCritic\u001b[0m (to Meta Reviewer):\n",
      "\n",
      "Aggregrate feedback from all reviewers and give final suggestions on the writing.\n",
      "Context: \n",
      "{'Reviewer': 'SEO Reviewer', 'Review': '- Consider incorporating keywords like \"deep learning courses\" and \"Andrew Ng\" to improve search engine visibility.\\n- Enhance the title to include specific benefits or outcomes, such as \"Advance Your AI Skills with Expert-led Deep Learning Courses\".\\n- Include a clear Call-to-Action (CTA) at the end to prompt user engagement, e.g., \"Enroll Now and Elevate Your AI Capabilities with DeepLearning.AI!\"'}\n",
      "{'Reviewer': 'Legal Reviewer', 'Review': '1. Ensure the content does not provide misleading information about the qualifications or expertise of the industry expert Andrew Ng. 2. Review for any potential claims that need substantiation regarding the effectiveness or outcomes of the courses offered by DeepLearning.AI. 3. Confirm that the Call-to-Action (CTA) at the end does not create false expectations or promises about the benefits of enrolling in the courses.'}\n",
      "{'reviewer': 'Ethics Reviewer', 'review': '- Ensure that the qualifications and expertise of industry expert Andrew Ng are accurately represented without any misleading information.\\n- Review all claims regarding the effectiveness or outcomes of DeepLearning.AI courses to ensure they are backed by substantiated evidence.\\n- Confirm that the Call-to-Action (CTA) at the end does not make any false promises or create unrealistic expectations about the benefits of enrolling in the courses.'}\n"
     ]
    },
    {
     "name": "stdout",
     "output_type": "stream",
     "text": [
      "\n",
      "--------------------------------------------------------------------------------\n",
      "\u001b[33mMeta Reviewer\u001b[0m (to Critic):\n",
      "\n",
      "After aggregating the feedback from all reviewers, it is clear that there are some key suggestions that overlap across the reviews:\n",
      "\n",
      "1. Incorporate relevant keywords like \"deep learning courses\" and \"Andrew Ng\" for improved search engine visibility.\n",
      "2. Enhance the title to highlight specific benefits or outcomes of the courses offered by DeepLearning.AI.\n",
      "3. Ensure that the qualifications and expertise of Andrew Ng are accurately represented without any misleading information.\n",
      "4. Review and substantiate any claims about the effectiveness or outcomes of the courses.\n",
      "5. Check the Call-to-Action (CTA) to avoid making false promises or creating unrealistic expectations about the benefits of enrolling.\n",
      "\n",
      "Incorporating these suggestions will not only enhance the writing for better SEO performance but also ensure ethical and legal compliance. It is essential to strike a balance between enticing potential learners with compelling content while maintaining transparency and accuracy in the information provided. Remember to review and revise the content to align with these recommendations before publication.\n",
      "\n",
      "--------------------------------------------------------------------------------\n",
      "\u001b[33mCritic\u001b[0m (to Writer):\n",
      "\n",
      "After aggregating the feedback from all reviewers, it is clear that there are some key suggestions that overlap across the reviews:\n",
      "\n",
      "1. Incorporate relevant keywords like \"deep learning courses\" and \"Andrew Ng\" for improved search engine visibility.\n",
      "2. Enhance the title to highlight specific benefits or outcomes of the courses offered by DeepLearning.AI.\n",
      "3. Ensure that the qualifications and expertise of Andrew Ng are accurately represented without any misleading information.\n",
      "4. Review and substantiate any claims about the effectiveness or outcomes of the courses.\n",
      "5. Check the Call-to-Action (CTA) to avoid making false promises or creating unrealistic expectations about the benefits of enrolling.\n",
      "\n",
      "Incorporating these suggestions will not only enhance the writing for better SEO performance but also ensure ethical and legal compliance. It is essential to strike a balance between enticing potential learners with compelling content while maintaining transparency and accuracy in the information provided. Remember to review and revise the content to align with these recommendations before publication.\n",
      "\n",
      "--------------------------------------------------------------------------------\n",
      "\u001b[33mWriter\u001b[0m (to Critic):\n",
      "\n",
      "Title: \"Unlock Your Potential: Deep Learning Courses by Andrew Ng's DeepLearning.AI\"\n",
      "\n",
      "Discover the power of DeepLearning.AI's cutting-edge deep learning courses, designed by renowned AI expert Andrew Ng. Explore a world of possibilities in computer vision, natural language processing, and more, with hands-on projects that bring learning to life. With a focus on practical applications and real-world skills, these courses cater to beginners and experts alike. Join thousands of learners already benefiting from top-tier AI education. Empower yourself with expertise that's in demand today and tomorrow. Start your journey with DeepLearning.AI and take a step closer to mastering the future of AI.\n",
      "\n",
      "--------------------------------------------------------------------------------\n"
     ]
    }
   ],
   "source": [
    "res = critic.initiate_chat(\n",
    "    recipient=writer,\n",
    "    message=task,\n",
    "    max_turns=2,\n",
    "    summary_method=\"last_msg\"\n",
    ")"
   ]
  },
  {
   "cell_type": "markdown",
   "id": "c5c833b0",
   "metadata": {},
   "source": [
    "## Get the summary"
   ]
  },
  {
   "cell_type": "code",
   "execution_count": 15,
   "id": "68ef82ed-f102-4964-b7be-60e2f258a39b",
   "metadata": {
    "height": 30
   },
   "outputs": [
    {
     "name": "stdout",
     "output_type": "stream",
     "text": [
      "Title: \"Unlock Your Potential: Deep Learning Courses by Andrew Ng's DeepLearning.AI\"\n",
      "\n",
      "Discover the power of DeepLearning.AI's cutting-edge deep learning courses, designed by renowned AI expert Andrew Ng. Explore a world of possibilities in computer vision, natural language processing, and more, with hands-on projects that bring learning to life. With a focus on practical applications and real-world skills, these courses cater to beginners and experts alike. Join thousands of learners already benefiting from top-tier AI education. Empower yourself with expertise that's in demand today and tomorrow. Start your journey with DeepLearning.AI and take a step closer to mastering the future of AI.\n"
     ]
    }
   ],
   "source": [
    "print(res.summary)"
   ]
  },
  {
   "cell_type": "code",
   "execution_count": null,
   "id": "445434bb",
   "metadata": {
    "height": 30
   },
   "outputs": [],
   "source": []
  }
 ],
 "metadata": {
  "kernelspec": {
   "display_name": "Python 3 (ipykernel)",
   "language": "python",
   "name": "python3"
  },
  "language_info": {
   "codemirror_mode": {
    "name": "ipython",
    "version": 3
   },
   "file_extension": ".py",
   "mimetype": "text/x-python",
   "name": "python",
   "nbconvert_exporter": "python",
   "pygments_lexer": "ipython3",
   "version": "3.11.9"
  }
 },
 "nbformat": 4,
 "nbformat_minor": 5
}
